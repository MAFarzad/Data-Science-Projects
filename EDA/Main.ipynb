{
 "cells": [
  {
   "cell_type": "markdown",
   "id": "1de1ec9b",
   "metadata": {},
   "source": [
    "# Question\n",
    "\n",
    "The information of sunlight and solar panels are in two different Excel files.\n",
    "- Combine all the data\n",
    "- Clean the data\n",
    "- Export the clean data\n",
    "- Analyse the data"
   ]
  },
  {
   "cell_type": "code",
   "execution_count": 51,
   "id": "63ee7a86",
   "metadata": {},
   "outputs": [],
   "source": [
    "import pandas as pd"
   ]
  },
  {
   "cell_type": "code",
   "execution_count": 52,
   "id": "f39f18d3",
   "metadata": {},
   "outputs": [],
   "source": [
    "# Load data\n",
    "\n",
    "raw_df_1 = pd.read_excel('data/solar_data_1.xlsx', engine='openpyxl')\n",
    "raw_df_2 = pd.read_excel('data/solar_data_2.xlsx', engine='openpyxl')"
   ]
  },
  {
   "cell_type": "code",
   "execution_count": 53,
   "id": "2dcbe6ff",
   "metadata": {},
   "outputs": [
    {
     "name": "stdout",
     "output_type": "stream",
     "text": [
      "DataFrame 1 shape: (21, 7),\n",
      "DataFrame 2 shape: (34, 7), \n"
     ]
    }
   ],
   "source": [
    "# Check for the shapes\n",
    "\n",
    "print(f'DataFrame 1 shape: {raw_df_1.shape},\\nDataFrame 2 shape: {raw_df_2.shape}, ')"
   ]
  },
  {
   "cell_type": "code",
   "execution_count": 54,
   "id": "2d2ffa95",
   "metadata": {},
   "outputs": [
    {
     "name": "stdout",
     "output_type": "stream",
     "text": [
      "DataFrames fields are identical: True\n"
     ]
    }
   ],
   "source": [
    "# Check all fileds are the same in both DataFrames\n",
    "\n",
    "raw_df_1_field_set = set(raw_df_1.columns)\n",
    "raw_df_2_field_set = set(raw_df_2.columns)\n",
    "\n",
    "print(f'DataFrames fields are identical: {raw_df_1_field_set == raw_df_2_field_set}')"
   ]
  },
  {
   "cell_type": "code",
   "execution_count": 55,
   "id": "411ef047",
   "metadata": {},
   "outputs": [],
   "source": [
    "# DataFrames are consistent, so they can be concatenated\n",
    "\n",
    "df = pd.concat([raw_df_1, raw_df_2])"
   ]
  },
  {
   "cell_type": "code",
   "execution_count": 56,
   "id": "f971e114",
   "metadata": {},
   "outputs": [
    {
     "name": "stdout",
     "output_type": "stream",
     "text": [
      "Number of duplicated records: 3\n"
     ]
    }
   ],
   "source": [
    "# Check for duplicated values and delete them\n",
    "\n",
    "print(f'Number of duplicated records: {df.duplicated().sum()}')\n",
    "df.drop_duplicates(inplace=True)"
   ]
  },
  {
   "cell_type": "code",
   "execution_count": 57,
   "id": "abf82c6b",
   "metadata": {},
   "outputs": [
    {
     "name": "stdout",
     "output_type": "stream",
     "text": [
      "<class 'pandas.core.frame.DataFrame'>\n",
      "Int64Index: 52 entries, 0 to 30\n",
      "Data columns (total 7 columns):\n",
      " #   Column                      Non-Null Count  Dtype  \n",
      "---  ------                      --------------  -----  \n",
      " 0   state_name                  51 non-null     object \n",
      " 1   number_of_panels_total      52 non-null     int64  \n",
      " 2   kw_total                    52 non-null     float64\n",
      " 3   kw_median                   51 non-null     float64\n",
      " 4   yearly_sunlight_kwh_median  51 non-null     float64\n",
      " 5   yearly_sunlight_kwh_total   52 non-null     float64\n",
      " 6   existing_installs_count     51 non-null     float64\n",
      "dtypes: float64(5), int64(1), object(1)\n",
      "memory usage: 3.2+ KB\n"
     ]
    }
   ],
   "source": [
    "# Examine DataFrame\n",
    "\n",
    "df.info()"
   ]
  },
  {
   "cell_type": "markdown",
   "id": "749a96eb",
   "metadata": {},
   "source": [
    "* There are some missing values\n",
    "* DataTypes are correct"
   ]
  },
  {
   "cell_type": "code",
   "execution_count": 58,
   "id": "22477758",
   "metadata": {},
   "outputs": [
    {
     "data": {
      "text/plain": [
       "Alabama                 1\n",
       "Pennsylvania            1\n",
       "Nevada                  1\n",
       "New Hampshire           1\n",
       "New Jersey              1\n",
       "New Mexico              1\n",
       "New York                1\n",
       "North Carolina          1\n",
       "North Dakota            1\n",
       "Ohio                    1\n",
       "Oklahoma                1\n",
       "Oregon                  1\n",
       "Rhode Island            1\n",
       "Montana                 1\n",
       "South Carolina          1\n",
       "South Dakota            1\n",
       "Tennessee               1\n",
       "Texas                   1\n",
       "Utah                    1\n",
       "Vermont                 1\n",
       "Virginia                1\n",
       "Washington              1\n",
       "West Virginia           1\n",
       "Wisconsin               1\n",
       "Nebraska                1\n",
       "Missouri                1\n",
       "Alaska                  1\n",
       "Idaho                   1\n",
       "Arizona                 1\n",
       "Arkansas                1\n",
       "California              1\n",
       "Colorado                1\n",
       "Connecticut             1\n",
       "Delaware                1\n",
       "District of Columbia    1\n",
       "Florida                 1\n",
       "Georgia                 1\n",
       "Hawaii                  1\n",
       "Illinois                1\n",
       "Mississippi             1\n",
       "Indiana                 1\n",
       "Iowa                    1\n",
       "Kansas                  1\n",
       "Kentucky                1\n",
       "Louisiana               1\n",
       "Maine                   1\n",
       "Maryland                1\n",
       "Massachusetts           1\n",
       "Michigan                1\n",
       "Minnesota               1\n",
       "Wyoming                 1\n",
       "Name: state_name, dtype: int64"
      ]
     },
     "execution_count": 58,
     "metadata": {},
     "output_type": "execute_result"
    }
   ],
   "source": [
    "# Check 'state_name' field\n",
    "\n",
    "df['state_name'].value_counts()"
   ]
  },
  {
   "cell_type": "code",
   "execution_count": 59,
   "id": "0e84e1fa",
   "metadata": {},
   "outputs": [
    {
     "name": "stdout",
     "output_type": "stream",
     "text": [
      "<class 'pandas.core.frame.DataFrame'>\n",
      "Int64Index: 51 entries, 1 to 30\n",
      "Data columns (total 7 columns):\n",
      " #   Column                      Non-Null Count  Dtype  \n",
      "---  ------                      --------------  -----  \n",
      " 0   state_name                  51 non-null     object \n",
      " 1   number_of_panels_total      51 non-null     int64  \n",
      " 2   kw_total                    51 non-null     float64\n",
      " 3   kw_median                   50 non-null     float64\n",
      " 4   yearly_sunlight_kwh_median  50 non-null     float64\n",
      " 5   yearly_sunlight_kwh_total   51 non-null     float64\n",
      " 6   existing_installs_count     50 non-null     float64\n",
      "dtypes: float64(5), int64(1), object(1)\n",
      "memory usage: 3.2+ KB\n"
     ]
    }
   ],
   "source": [
    "# Since the DataFrame consists of states for only one record and all states are present, the missing value in this column should be an error and will be removed.\n",
    "\n",
    "df.dropna(subset=['state_name'], inplace=True)\n",
    "df.info()"
   ]
  },
  {
   "cell_type": "code",
   "execution_count": 60,
   "id": "a22ab74a",
   "metadata": {},
   "outputs": [
    {
     "data": {
      "text/plain": [
       "array([[<AxesSubplot:title={'center':'kw_median'}>,\n",
       "        <AxesSubplot:title={'center':'yearly_sunlight_kwh_median'}>],\n",
       "       [<AxesSubplot:title={'center':'existing_installs_count'}>,\n",
       "        <AxesSubplot:>]], dtype=object)"
      ]
     },
     "execution_count": 60,
     "metadata": {},
     "output_type": "execute_result"
    },
    {
     "data": {
      "image/png": "[encoded data removed]",
      "text/plain": [
       "<Figure size 432x288 with 4 Axes>"
      ]
     },
     "metadata": {
      "needs_background": "light"
     },
     "output_type": "display_data"
    }
   ],
   "source": [
    "# Check the distribution of fields with missing values\n",
    "\n",
    "df[['kw_median', 'yearly_sunlight_kwh_median', 'existing_installs_count']].hist()"
   ]
  },
  {
   "cell_type": "code",
   "execution_count": 61,
   "id": "7f35add0",
   "metadata": {},
   "outputs": [
    {
     "name": "stdout",
     "output_type": "stream",
     "text": [
      "<class 'pandas.core.frame.DataFrame'>\n",
      "Int64Index: 51 entries, 1 to 30\n",
      "Data columns (total 7 columns):\n",
      " #   Column                      Non-Null Count  Dtype  \n",
      "---  ------                      --------------  -----  \n",
      " 0   state_name                  51 non-null     object \n",
      " 1   number_of_panels_total      51 non-null     int64  \n",
      " 2   kw_total                    51 non-null     float64\n",
      " 3   kw_median                   51 non-null     float64\n",
      " 4   yearly_sunlight_kwh_median  51 non-null     float64\n",
      " 5   yearly_sunlight_kwh_total   51 non-null     float64\n",
      " 6   existing_installs_count     50 non-null     float64\n",
      "dtypes: float64(5), int64(1), object(1)\n",
      "memory usage: 3.2+ KB\n"
     ]
    }
   ],
   "source": [
    "# Both 'kw_median' and 'yearly_sunlight_kwh_median' are somehow sckewd normal distribution, so the missing value will be filled with median.\n",
    "\n",
    "df['kw_median'].fillna(df['kw_median'].median(), inplace=True)\n",
    "df['yearly_sunlight_kwh_median'].fillna(df['yearly_sunlight_kwh_median'].median(), inplace=True)\n",
    "\n",
    "df.info()"
   ]
  },
  {
   "cell_type": "code",
   "execution_count": 62,
   "id": "163079e4",
   "metadata": {},
   "outputs": [
    {
     "name": "stdout",
     "output_type": "stream",
     "text": [
      "<class 'pandas.core.frame.DataFrame'>\n",
      "Int64Index: 51 entries, 1 to 30\n",
      "Data columns (total 7 columns):\n",
      " #   Column                      Non-Null Count  Dtype  \n",
      "---  ------                      --------------  -----  \n",
      " 0   state_name                  51 non-null     object \n",
      " 1   number_of_panels_total      51 non-null     int64  \n",
      " 2   kw_total                    51 non-null     float64\n",
      " 3   kw_median                   51 non-null     float64\n",
      " 4   yearly_sunlight_kwh_median  51 non-null     float64\n",
      " 5   yearly_sunlight_kwh_total   51 non-null     float64\n",
      " 6   existing_installs_count     51 non-null     float64\n",
      "dtypes: float64(5), int64(1), object(1)\n",
      "memory usage: 3.2+ KB\n"
     ]
    }
   ],
   "source": [
    "# 'existing_installs_count' is concentrated on an specific region, so the missing value will be filled with mode.\n",
    "\n",
    "df['existing_installs_count'].fillna(df['existing_installs_count'].mode(), inplace=True)\n",
    "\n",
    "df.info()"
   ]
  },
  {
   "cell_type": "code",
   "execution_count": 63,
   "id": "bf158b85",
   "metadata": {},
   "outputs": [],
   "source": [
    "# Save cleaned data\n",
    "\n",
    "df.to_excel('cleaned_solar_data.xlsx', index=False)"
   ]
  },
  {
   "cell_type": "code",
   "execution_count": 64,
   "id": "90a92aec",
   "metadata": {},
   "outputs": [
    {
     "data": {
      "text/html": [
       "<div>\n",
       "<style scoped>\n",
       "    .dataframe tbody tr th:only-of-type {\n",
       "        vertical-align: middle;\n",
       "    }\n",
       "\n",
       "    .dataframe tbody tr th {\n",
       "        vertical-align: top;\n",
       "    }\n",
       "\n",
       "    .dataframe thead th {\n",
       "        text-align: right;\n",
       "    }\n",
       "</style>\n",
       "<table border=\"1\" class=\"dataframe\">\n",
       "  <thead>\n",
       "    <tr style=\"text-align: right;\">\n",
       "      <th></th>\n",
       "      <th>number_of_panels_total</th>\n",
       "      <th>kw_total</th>\n",
       "      <th>kw_median</th>\n",
       "      <th>yearly_sunlight_kwh_median</th>\n",
       "      <th>yearly_sunlight_kwh_total</th>\n",
       "      <th>existing_installs_count</th>\n",
       "    </tr>\n",
       "  </thead>\n",
       "  <tbody>\n",
       "    <tr>\n",
       "      <th>number_of_panels_total</th>\n",
       "      <td>1.000000</td>\n",
       "      <td>1.000000</td>\n",
       "      <td>0.292546</td>\n",
       "      <td>0.303214</td>\n",
       "      <td>0.995478</td>\n",
       "      <td>0.818074</td>\n",
       "    </tr>\n",
       "    <tr>\n",
       "      <th>kw_total</th>\n",
       "      <td>1.000000</td>\n",
       "      <td>1.000000</td>\n",
       "      <td>0.292546</td>\n",
       "      <td>0.303214</td>\n",
       "      <td>0.995478</td>\n",
       "      <td>0.818074</td>\n",
       "    </tr>\n",
       "    <tr>\n",
       "      <th>kw_median</th>\n",
       "      <td>0.292546</td>\n",
       "      <td>0.292546</td>\n",
       "      <td>1.000000</td>\n",
       "      <td>0.920713</td>\n",
       "      <td>0.318872</td>\n",
       "      <td>0.273429</td>\n",
       "    </tr>\n",
       "    <tr>\n",
       "      <th>yearly_sunlight_kwh_median</th>\n",
       "      <td>0.303214</td>\n",
       "      <td>0.303214</td>\n",
       "      <td>0.920713</td>\n",
       "      <td>1.000000</td>\n",
       "      <td>0.343703</td>\n",
       "      <td>0.326113</td>\n",
       "    </tr>\n",
       "    <tr>\n",
       "      <th>yearly_sunlight_kwh_total</th>\n",
       "      <td>0.995478</td>\n",
       "      <td>0.995478</td>\n",
       "      <td>0.318872</td>\n",
       "      <td>0.343703</td>\n",
       "      <td>1.000000</td>\n",
       "      <td>0.855928</td>\n",
       "    </tr>\n",
       "    <tr>\n",
       "      <th>existing_installs_count</th>\n",
       "      <td>0.818074</td>\n",
       "      <td>0.818074</td>\n",
       "      <td>0.273429</td>\n",
       "      <td>0.326113</td>\n",
       "      <td>0.855928</td>\n",
       "      <td>1.000000</td>\n",
       "    </tr>\n",
       "  </tbody>\n",
       "</table>\n",
       "</div>"
      ],
      "text/plain": [
       "                            number_of_panels_total  kw_total  kw_median  \\\n",
       "number_of_panels_total                    1.000000  1.000000   0.292546   \n",
       "kw_total                                  1.000000  1.000000   0.292546   \n",
       "kw_median                                 0.292546  0.292546   1.000000   \n",
       "yearly_sunlight_kwh_median                0.303214  0.303214   0.920713   \n",
       "yearly_sunlight_kwh_total                 0.995478  0.995478   0.318872   \n",
       "existing_installs_count                   0.818074  0.818074   0.273429   \n",
       "\n",
       "                            yearly_sunlight_kwh_median  \\\n",
       "number_of_panels_total                        0.303214   \n",
       "kw_total                                      0.303214   \n",
       "kw_median                                     0.920713   \n",
       "yearly_sunlight_kwh_median                    1.000000   \n",
       "yearly_sunlight_kwh_total                     0.343703   \n",
       "existing_installs_count                       0.326113   \n",
       "\n",
       "                            yearly_sunlight_kwh_total  existing_installs_count  \n",
       "number_of_panels_total                       0.995478                 0.818074  \n",
       "kw_total                                     0.995478                 0.818074  \n",
       "kw_median                                    0.318872                 0.273429  \n",
       "yearly_sunlight_kwh_median                   0.343703                 0.326113  \n",
       "yearly_sunlight_kwh_total                    1.000000                 0.855928  \n",
       "existing_installs_count                      0.855928                 1.000000  "
      ]
     },
     "execution_count": 64,
     "metadata": {},
     "output_type": "execute_result"
    }
   ],
   "source": [
    "# Examine correlation\n",
    "\n",
    "df.corr()"
   ]
  },
  {
   "cell_type": "code",
   "execution_count": 65,
   "id": "88a6b4f8",
   "metadata": {},
   "outputs": [],
   "source": [
    "# It seems 'median' fields dont have good correlation with the rest.\n",
    "# In addition, 'number_of_panels_total' is proportional of 'kw_total'.\n",
    "# So they are droped.\n",
    "\n",
    "df.drop(['kw_median', 'yearly_sunlight_kwh_median', 'number_of_panels_total'], axis=1, inplace=True)"
   ]
  },
  {
   "cell_type": "code",
   "execution_count": 66,
   "id": "2f7b8d61",
   "metadata": {},
   "outputs": [
    {
     "data": {
      "text/plain": [
       "<AxesSubplot:xlabel='yearly_sunlight_kwh_total', ylabel='existing_installs_count'>"
      ]
     },
     "execution_count": 66,
     "metadata": {},
     "output_type": "execute_result"
    },
    {
     "data": {
      "image/png": "[encoded data removed]",
      "text/plain": [
       "<Figure size 432x288 with 1 Axes>"
      ]
     },
     "metadata": {
      "needs_background": "light"
     },
     "output_type": "display_data"
    }
   ],
   "source": [
    "# Check relationship between 'existing_installs_count' and 'yearly_sunlight_kwh_total'\n",
    "\n",
    "df.plot.scatter(x='yearly_sunlight_kwh_total', y='existing_installs_count')"
   ]
  },
  {
   "cell_type": "code",
   "execution_count": 67,
   "id": "162272e7",
   "metadata": {
    "scrolled": true
   },
   "outputs": [
    {
     "data": {
      "text/html": [
       "<div>\n",
       "<style scoped>\n",
       "    .dataframe tbody tr th:only-of-type {\n",
       "        vertical-align: middle;\n",
       "    }\n",
       "\n",
       "    .dataframe tbody tr th {\n",
       "        vertical-align: top;\n",
       "    }\n",
       "\n",
       "    .dataframe thead th {\n",
       "        text-align: right;\n",
       "    }\n",
       "</style>\n",
       "<table border=\"1\" class=\"dataframe\">\n",
       "  <thead>\n",
       "    <tr style=\"text-align: right;\">\n",
       "      <th></th>\n",
       "      <th>state_name</th>\n",
       "      <th>kw_total</th>\n",
       "      <th>yearly_sunlight_kwh_total</th>\n",
       "      <th>existing_installs_count</th>\n",
       "    </tr>\n",
       "  </thead>\n",
       "  <tbody>\n",
       "    <tr>\n",
       "      <th>5</th>\n",
       "      <td>California</td>\n",
       "      <td>1.327557e+08</td>\n",
       "      <td>1.980163e+11</td>\n",
       "      <td>328899.0</td>\n",
       "    </tr>\n",
       "    <tr>\n",
       "      <th>23</th>\n",
       "      <td>Texas</td>\n",
       "      <td>8.701372e+07</td>\n",
       "      <td>1.171552e+11</td>\n",
       "      <td>13969.0</td>\n",
       "    </tr>\n",
       "    <tr>\n",
       "      <th>10</th>\n",
       "      <td>Florida</td>\n",
       "      <td>7.642059e+07</td>\n",
       "      <td>1.050627e+11</td>\n",
       "      <td>104123.0</td>\n",
       "    </tr>\n",
       "    <tr>\n",
       "      <th>3</th>\n",
       "      <td>Arizona</td>\n",
       "      <td>2.867445e+07</td>\n",
       "      <td>4.639329e+10</td>\n",
       "      <td>39553.0</td>\n",
       "    </tr>\n",
       "    <tr>\n",
       "      <th>12</th>\n",
       "      <td>New York</td>\n",
       "      <td>3.041255e+07</td>\n",
       "      <td>3.492613e+10</td>\n",
       "      <td>19979.0</td>\n",
       "    </tr>\n",
       "  </tbody>\n",
       "</table>\n",
       "</div>"
      ],
      "text/plain": [
       "    state_name      kw_total  yearly_sunlight_kwh_total  \\\n",
       "5   California  1.327557e+08               1.980163e+11   \n",
       "23       Texas  8.701372e+07               1.171552e+11   \n",
       "10     Florida  7.642059e+07               1.050627e+11   \n",
       "3      Arizona  2.867445e+07               4.639329e+10   \n",
       "12    New York  3.041255e+07               3.492613e+10   \n",
       "\n",
       "    existing_installs_count  \n",
       "5                  328899.0  \n",
       "23                  13969.0  \n",
       "10                 104123.0  \n",
       "3                   39553.0  \n",
       "12                  19979.0  "
      ]
     },
     "execution_count": 67,
     "metadata": {},
     "output_type": "execute_result"
    }
   ],
   "source": [
    "# Let's find states with most sunlight\n",
    "\n",
    "df.sort_values(by='yearly_sunlight_kwh_total', ascending=False).head()"
   ]
  },
  {
   "cell_type": "code",
   "execution_count": 68,
   "id": "957d7cec",
   "metadata": {},
   "outputs": [
    {
     "data": {
      "text/html": [
       "<div>\n",
       "<style scoped>\n",
       "    .dataframe tbody tr th:only-of-type {\n",
       "        vertical-align: middle;\n",
       "    }\n",
       "\n",
       "    .dataframe tbody tr th {\n",
       "        vertical-align: top;\n",
       "    }\n",
       "\n",
       "    .dataframe thead th {\n",
       "        text-align: right;\n",
       "    }\n",
       "</style>\n",
       "<table border=\"1\" class=\"dataframe\">\n",
       "  <thead>\n",
       "    <tr style=\"text-align: right;\">\n",
       "      <th></th>\n",
       "      <th>state_name</th>\n",
       "      <th>kw_total</th>\n",
       "      <th>yearly_sunlight_kwh_total</th>\n",
       "      <th>existing_installs_count</th>\n",
       "    </tr>\n",
       "  </thead>\n",
       "  <tbody>\n",
       "    <tr>\n",
       "      <th>5</th>\n",
       "      <td>California</td>\n",
       "      <td>1.327557e+08</td>\n",
       "      <td>1.980163e+11</td>\n",
       "      <td>328899.0</td>\n",
       "    </tr>\n",
       "    <tr>\n",
       "      <th>10</th>\n",
       "      <td>Florida</td>\n",
       "      <td>7.642059e+07</td>\n",
       "      <td>1.050627e+11</td>\n",
       "      <td>104123.0</td>\n",
       "    </tr>\n",
       "    <tr>\n",
       "      <th>3</th>\n",
       "      <td>Arizona</td>\n",
       "      <td>2.867445e+07</td>\n",
       "      <td>4.639329e+10</td>\n",
       "      <td>39553.0</td>\n",
       "    </tr>\n",
       "    <tr>\n",
       "      <th>12</th>\n",
       "      <td>Hawaii</td>\n",
       "      <td>3.992278e+06</td>\n",
       "      <td>6.004369e+09</td>\n",
       "      <td>25414.0</td>\n",
       "    </tr>\n",
       "    <tr>\n",
       "      <th>6</th>\n",
       "      <td>Colorado</td>\n",
       "      <td>1.379369e+07</td>\n",
       "      <td>1.970758e+10</td>\n",
       "      <td>24140.0</td>\n",
       "    </tr>\n",
       "  </tbody>\n",
       "</table>\n",
       "</div>"
      ],
      "text/plain": [
       "    state_name      kw_total  yearly_sunlight_kwh_total  \\\n",
       "5   California  1.327557e+08               1.980163e+11   \n",
       "10     Florida  7.642059e+07               1.050627e+11   \n",
       "3      Arizona  2.867445e+07               4.639329e+10   \n",
       "12      Hawaii  3.992278e+06               6.004369e+09   \n",
       "6     Colorado  1.379369e+07               1.970758e+10   \n",
       "\n",
       "    existing_installs_count  \n",
       "5                  328899.0  \n",
       "10                 104123.0  \n",
       "3                   39553.0  \n",
       "12                  25414.0  \n",
       "6                   24140.0  "
      ]
     },
     "execution_count": 68,
     "metadata": {},
     "output_type": "execute_result"
    }
   ],
   "source": [
    "# Let's find states with most panels\n",
    "\n",
    "df.sort_values(by='existing_installs_count', ascending=False).head()"
   ]
  },
  {
   "cell_type": "markdown",
   "id": "6bfe1434",
   "metadata": {},
   "source": [
    "The situation in 'California', 'Florida' and 'Arizona' seems normal. More sunlight, more tendency to use solar panels.\n",
    "However, 'Hawaii' and 'Colorado' have more solar panels despite of lower sunlight, which may relate to expensive electricity or governmental incentives."
   ]
  }
 ],
 "metadata": {
  "kernelspec": {
   "display_name": "Python 3 (ipykernel)",
   "language": "python",
   "name": "python3"
  },
  "language_info": {
   "codemirror_mode": {
    "name": "ipython",
    "version": 3
   },
   "file_extension": ".py",
   "mimetype": "text/x-python",
   "name": "python",
   "nbconvert_exporter": "python",
   "pygments_lexer": "ipython3",
   "version": "3.9.12"
  }
 },
 "nbformat": 4,
 "nbformat_minor": 5
}
