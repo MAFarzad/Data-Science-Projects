{
 "cells": [
  {
   "cell_type": "markdown",
   "id": "6819405d",
   "metadata": {},
   "source": [
    "# Question\n",
    "\n",
    "There is a SQLite database containing information about songs. Analyze the file and find:\n",
    "- The genre name with the longest average song length\n",
    "- The total sales for each year and genre"
   ]
  },
  {
   "cell_type": "code",
   "execution_count": 1,
   "id": "bbdb0363",
   "metadata": {},
   "outputs": [],
   "source": [
    "import matplotlib.pyplot as plt\n",
    "import pandas as pd\n",
    "from sqlalchemy import create_engine, inspect"
   ]
  },
  {
   "cell_type": "code",
   "execution_count": 2,
   "id": "f30d6d0e",
   "metadata": {},
   "outputs": [],
   "source": [
    "# Connect to the database\n",
    "\n",
    "engine = create_engine('sqlite:///data/chinook.db')\n",
    "connection = engine.connect()"
   ]
  },
  {
   "cell_type": "code",
   "execution_count": 3,
   "id": "00a4e539",
   "metadata": {},
   "outputs": [
    {
     "name": "stdout",
     "output_type": "stream",
     "text": [
      "------------albums------------\n",
      "AlbumId         INTEGER\n",
      "Title           NVARCHAR(160)\n",
      "ArtistId        INTEGER\n",
      "-----------artists------------\n",
      "ArtistId        INTEGER\n",
      "Name            NVARCHAR(120)\n",
      "----------customers-----------\n",
      "CustomerId      INTEGER\n",
      "FirstName       NVARCHAR(40)\n",
      "LastName        NVARCHAR(20)\n",
      "Company         NVARCHAR(80)\n",
      "Address         NVARCHAR(70)\n",
      "City            NVARCHAR(40)\n",
      "State           NVARCHAR(40)\n",
      "Country         NVARCHAR(40)\n",
      "PostalCode      NVARCHAR(10)\n",
      "Phone           NVARCHAR(24)\n",
      "Fax             NVARCHAR(24)\n",
      "Email           NVARCHAR(60)\n",
      "SupportRepId    INTEGER\n",
      "----------employees-----------\n",
      "EmployeeId      INTEGER\n",
      "LastName        NVARCHAR(20)\n",
      "FirstName       NVARCHAR(20)\n",
      "Title           NVARCHAR(30)\n",
      "ReportsTo       INTEGER\n",
      "BirthDate       DATETIME\n",
      "HireDate        DATETIME\n",
      "Address         NVARCHAR(70)\n",
      "City            NVARCHAR(40)\n",
      "State           NVARCHAR(40)\n",
      "Country         NVARCHAR(40)\n",
      "PostalCode      NVARCHAR(10)\n",
      "Phone           NVARCHAR(24)\n",
      "Fax             NVARCHAR(24)\n",
      "Email           NVARCHAR(60)\n",
      "------------genres------------\n",
      "GenreId         INTEGER\n",
      "Name            NVARCHAR(120)\n",
      "--------invoice_items---------\n",
      "InvoiceLineId   INTEGER\n",
      "InvoiceId       INTEGER\n",
      "TrackId         INTEGER\n",
      "UnitPrice       NUMERIC(10, 2)\n",
      "Quantity        INTEGER\n",
      "-----------invoices-----------\n",
      "InvoiceId       INTEGER\n",
      "CustomerId      INTEGER\n",
      "InvoiceDate     DATETIME\n",
      "BillingAddress  NVARCHAR(70)\n",
      "BillingCity     NVARCHAR(40)\n",
      "BillingState    NVARCHAR(40)\n",
      "BillingCountry  NVARCHAR(40)\n",
      "BillingPostalCode NVARCHAR(10)\n",
      "Total           NUMERIC(10, 2)\n",
      "---------media_types----------\n",
      "MediaTypeId     INTEGER\n",
      "Name            NVARCHAR(120)\n",
      "--------playlist_track--------\n",
      "PlaylistId      INTEGER\n",
      "TrackId         INTEGER\n",
      "----------playlists-----------\n",
      "PlaylistId      INTEGER\n",
      "Name            NVARCHAR(120)\n",
      "-------sqlite_sequence--------\n",
      "name            NULL\n",
      "seq             NULL\n",
      "---------sqlite_stat1---------\n",
      "tbl             NULL\n",
      "idx             NULL\n",
      "stat            NULL\n",
      "------------tracks------------\n",
      "TrackId         INTEGER\n",
      "Name            NVARCHAR(200)\n",
      "AlbumId         INTEGER\n",
      "MediaTypeId     INTEGER\n",
      "GenreId         INTEGER\n",
      "Composer        NVARCHAR(220)\n",
      "Milliseconds    INTEGER\n",
      "Bytes           INTEGER\n",
      "UnitPrice       NUMERIC(10, 2)\n"
     ]
    }
   ],
   "source": [
    "# Check for database schema\n",
    "\n",
    "inspector = inspect(engine)\n",
    "\n",
    "for table_name in inspector.get_table_names():\n",
    "    print(table_name.center(30, '-'))\n",
    "    for column in inspector.get_columns(table_name):\n",
    "        print(column['name'].ljust(15, ' '), column['type'])\n"
   ]
  },
  {
   "cell_type": "markdown",
   "id": "b84db6b4",
   "metadata": {},
   "source": [
    "### Genres with the longest song\n",
    "The desired information is in:\n",
    "\n",
    "- 'Milliseconds' of 'tracks' table\n",
    "- 'Name' of 'genres' table\n",
    "\n",
    "However tables should be joined as:\n",
    "- 'GenreId' of 'tracks' table to 'GenreId' of 'genres' table"
   ]
  },
  {
   "cell_type": "code",
   "execution_count": 4,
   "id": "e6a9bb1b",
   "metadata": {},
   "outputs": [
    {
     "name": "stdout",
     "output_type": "stream",
     "text": [
      "-------Genre-------- --Length--\n",
      "Sci Fi & Fantasy      48.5297\n",
      "Science Fiction       43.7592\n",
      "Drama                 42.9214\n",
      "TV Shows              35.7507\n",
      "Comedy                26.4211\n",
      "Metal                  5.1625\n",
      "Electronica/Dance      5.0498\n",
      "Heavy Metal            4.9575\n",
      "Classical              4.8978\n",
      "Jazz                   4.8626\n"
     ]
    },
    {
     "data": {
      "text/plain": [
       "<AxesSubplot:xlabel='genre'>"
      ]
     },
     "execution_count": 4,
     "metadata": {},
     "output_type": "execute_result"
    },
    {
     "data": {
      "image/png": "[encoded data removed]",
      "text/plain": [
       "<Figure size 432x288 with 1 Axes>"
      ]
     },
     "metadata": {
      "needs_background": "light"
     },
     "output_type": "display_data"
    }
   ],
   "source": [
    "command = \"\"\"\n",
    "        SELECT (AVG(tracks.Milliseconds) / 60000) as length, genres.Name\n",
    "        FROM tracks\n",
    "        JOIN genres\n",
    "        ON tracks.GenreId = genres.GenreId\n",
    "        GROUP BY tracks.GenreId\n",
    "        ORDER BY length DESC\n",
    "        LIMIT 10\n",
    "        \"\"\"\n",
    "\n",
    "result = connection.execute(command).all()\n",
    "\n",
    "print('Genre'.center(20, '-'), 'Length'.center(10, '-'))\n",
    "for row in result:\n",
    "    print(row[1].ljust(20), '{:8.4f}'.format(row[0]))\n",
    "\n",
    "df = pd.DataFrame(result, columns=['length', 'genre'])\n",
    "df.plot.bar(x='genre')"
   ]
  },
  {
   "cell_type": "markdown",
   "id": "ac425dc7",
   "metadata": {},
   "source": [
    "### Total sales for year and genre\n",
    "The desired information is in:\n",
    "- 'Total' of 'invoices' table\n",
    "- 'InvoiceDate' of 'invoices' table\n",
    "- 'Name' of 'genres' table\n",
    "\n",
    "However tables should be joined as:\n",
    "- 'InvoiceId' of 'invoices' table to 'InvoiceId' of 'invoice_items' table\n",
    "- 'TrackId' of 'invoice_items' table to 'TrackId' of 'tracks' table\n",
    "- 'GenreId' of 'tracks' table to 'GenreId' of 'genres' table"
   ]
  },
  {
   "cell_type": "code",
   "execution_count": 5,
   "id": "49ca02f2",
   "metadata": {},
   "outputs": [
    {
     "name": "stdout",
     "output_type": "stream",
     "text": [
      "-Year- -------Genre-------- -ToTal Sales-\n",
      " 2009  Rock                 1561.23\n",
      " 2009  Jazz                  185.13\n",
      " 2009  Metal                 502.92\n",
      " 2009  Alternative & Punk    466.29\n",
      " 2009  Rock And Roll          13.86\n",
      " 2009  Blues                 112.86\n",
      " 2009  Latin                 789.03\n",
      " 2009  Reggae                 58.41\n",
      " 2009  Pop                    13.86\n",
      " 2009  Soundtrack             45.54\n",
      " 2009  Bossa Nova             13.86\n",
      " 2009  Easy Listening         41.58\n",
      " 2009  Heavy Metal            50.49\n",
      " 2009  R&B/Soul               69.30\n",
      " 2009  Electronica/Dance      17.82\n",
      " 2009  World                  41.58\n",
      " 2009  Hip Hop/Rap            27.72\n",
      " 2010  Rock                 1364.77\n",
      " 2010  Jazz                  173.25\n",
      " 2010  Metal                 488.23\n",
      " 2010  Alternative & Punk    264.38\n",
      " 2010  Rock And Roll          27.72\n",
      " 2010  Blues                  44.55\n",
      " 2010  Latin                 804.14\n",
      " 2010  Reggae                 58.41\n",
      " 2010  Pop                    61.38\n",
      " 2010  Soundtrack             55.44\n",
      " 2010  Bossa Nova             27.72\n",
      " 2010  Easy Listening         27.72\n",
      " 2010  Heavy Metal            41.58\n",
      " 2010  R&B/Soul              103.99\n",
      " 2010  Electronica/Dance      38.64\n",
      " 2010  World                  41.58\n",
      " 2010  Hip Hop/Rap            29.73\n",
      " 2010  Science Fiction        35.82\n",
      " 2010  TV Shows              225.48\n",
      " 2010  Sci Fi & Fantasy       49.72\n",
      " 2010  Drama                 148.11\n",
      " 2010  Comedy                 37.72\n",
      " 2010  Alternative            80.29\n",
      " 2010  Classical              99.08\n",
      " 2011  Rock                 1586.62\n",
      " 2011  Jazz                  153.45\n",
      " 2011  Metal                 177.26\n",
      " 2011  Alternative & Punk    437.76\n",
      " 2011  Rock And Roll          13.86\n",
      " 2011  Blues                 105.93\n",
      " 2011  Latin                 613.06\n",
      " 2011  Reggae                100.98\n",
      " 2011  Pop                    78.30\n",
      " 2011  Soundtrack             54.45\n",
      " 2011  Bossa Nova             20.79\n",
      " 2011  Easy Listening         41.58\n",
      " 2011  R&B/Soul               16.83\n",
      " 2011  Electronica/Dance      31.72\n",
      " 2011  World                  15.86\n",
      " 2011  Hip Hop/Rap            40.59\n",
      " 2011  Science Fiction        29.82\n",
      " 2011  TV Shows              273.19\n",
      " 2011  Sci Fi & Fantasy       66.62\n",
      " 2011  Drama                  73.46\n",
      " 2011  Comedy                 18.86\n",
      " 2011  Alternative            63.44\n",
      " 2011  Classical             111.97\n",
      " 2012  Rock                 1536.16\n",
      " 2012  Jazz                   67.32\n",
      " 2012  Metal                 487.14\n",
      " 2012  Alternative & Punk    345.63\n",
      " 2012  Rock And Roll          27.72\n",
      " 2012  Blues                  73.26\n",
      " 2012  Latin                 543.62\n",
      " 2012  Reggae                 73.26\n",
      " 2012  Pop                    86.21\n",
      " 2012  Soundtrack             45.54\n",
      " 2012  Heavy Metal            41.58\n",
      " 2012  R&B/Soul               99.99\n",
      " 2012  Electronica/Dance      47.58\n",
      " 2012  World                  41.58\n",
      " 2012  Hip Hop/Rap            61.44\n",
      " 2012  Science Fiction        10.91\n",
      " 2012  TV Shows              161.89\n",
      " 2012  Sci Fi & Fantasy       82.53\n",
      " 2012  Drama                 193.74\n",
      " 2012  Comedy                 55.72\n",
      " 2012  Alternative            67.44\n",
      " 2012  Classical             105.99\n",
      " 2013  Rock                 1671.24\n",
      " 2013  Jazz                  167.31\n",
      " 2013  Metal                 437.58\n",
      " 2013  Alternative & Punk    447.60\n",
      " 2013  Blues                  93.06\n",
      " 2013  Latin                 722.70\n",
      " 2013  Reggae                 41.58\n",
      " 2013  Soundtrack             41.58\n",
      " 2013  Bossa Nova             23.76\n",
      " 2013  Easy Listening         27.72\n",
      " 2013  Heavy Metal            27.72\n",
      " 2013  R&B/Soul               48.51\n",
      " 2013  Electronica/Dance      13.86\n",
      " 2013  World                  41.58\n",
      " 2013  Hip Hop/Rap             6.93\n",
      " 2013  Science Fiction        25.86\n",
      " 2013  TV Shows              157.15\n",
      " 2013  Drama                 129.30\n"
     ]
    },
    {
     "data": {
      "text/plain": [
       "<AxesSubplot:xlabel='year'>"
      ]
     },
     "execution_count": 5,
     "metadata": {},
     "output_type": "execute_result"
    },
    {
     "data": {
      "image/png": "[encoded data removed]",
      "text/plain": [
       "<Figure size 432x288 with 1 Axes>"
      ]
     },
     "metadata": {
      "needs_background": "light"
     },
     "output_type": "display_data"
    }
   ],
   "source": [
    "command = \"\"\"\n",
    "        SELECT SUM(invoices.Total), STRFTIME('%Y', invoices.InvoiceDate) as year, genres.name\n",
    "        FROM invoices\n",
    "        JOIN invoice_items\n",
    "        ON invoices.InvoiceId = invoice_items.InvoiceId\n",
    "        JOIN tracks\n",
    "        ON invoice_items.TrackId = tracks.TrackId\n",
    "        JOIN genres\n",
    "        ON tracks.GenreId = genres.GenreId\n",
    "        GROUP BY year, tracks.GenreId\n",
    "        ORDER BY year\n",
    "        \"\"\"\n",
    "\n",
    "result = connection.execute(command).all()\n",
    "\n",
    "print('Year'.center(6, '-'), 'Genre'.center(20, '-'), 'ToTal Sales'.center(13, '-'))\n",
    "for row in result:\n",
    "    print(row[1].center(6), row[2].ljust(20), '{:7.2f}'.format(row[0]))\n",
    "    \n",
    "\n",
    "df = pd.DataFrame(result, columns=['sales', 'year', 'genre']).pivot(index='year', columns='genre', values='sales')\n",
    "df.plot.line()\n"
   ]
  },
  {
   "cell_type": "code",
   "execution_count": 6,
   "id": "43f47029",
   "metadata": {},
   "outputs": [],
   "source": [
    "connection.close()"
   ]
  }
 ],
 "metadata": {
  "kernelspec": {
   "display_name": "Python 3.9.2 64-bit",
   "language": "python",
   "name": "python3"
  },
  "language_info": {
   "codemirror_mode": {
    "name": "ipython",
    "version": 3
   },
   "file_extension": ".py",
   "mimetype": "text/x-python",
   "name": "python",
   "nbconvert_exporter": "python",
   "pygments_lexer": "ipython3",
   "version": "3.9.2"
  },
  "vscode": {
   "interpreter": {
    "hash": "6912518644e49288ea977df8b217aa0e47ec7a2097c8ab5f8699c0ea920d9a44"
   }
  }
 },
 "nbformat": 4,
 "nbformat_minor": 5
}
